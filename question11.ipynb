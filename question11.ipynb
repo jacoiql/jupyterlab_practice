{
 "cells": [
  {
   "cell_type": "markdown",
   "id": "ce7400a1-5815-4fba-bc5b-636bc8fca5ef",
   "metadata": {},
   "source": [
    "# Jaco Lucero\n",
    "# Notebook for assignment 7"
   ]
  },
  {
   "cell_type": "code",
   "execution_count": 1,
   "id": "ae567329-7038-44e5-a428-02aeb49901d1",
   "metadata": {},
   "outputs": [
    {
     "name": "stdout",
     "output_type": "stream",
     "text": [
      "5.0\n"
     ]
    }
   ],
   "source": [
    "import numpy as np\n",
    "\n",
    "def compute_mean(l):\n",
    "    m = np.mean(l)\n",
    "    return print(m)\n",
    "\n",
    "compute_mean([2, 4, 6, 8])"
   ]
  },
  {
   "cell_type": "markdown",
   "id": "48a95b54-67c5-4a49-aeb8-15aa0ee72e10",
   "metadata": {},
   "source": [
    "$$\n",
    "\\overline{x}=\n",
    "\\frac{x_1 + x_2 + x_3 + \\cdot\\cdot\\cdot + x_n}{n}=\\frac{1}{n}\\Bigg(\\sum_{n=1}^{n}x_i\\Bigg)\n",
    "$$"
   ]
  },
  {
   "cell_type": "code",
   "execution_count": null,
   "id": "21378cd1-e0fb-4745-8ae8-d035ec66855d",
   "metadata": {},
   "outputs": [],
   "source": []
  }
 ],
 "metadata": {
  "kernelspec": {
   "display_name": "Python [conda env:base] *",
   "language": "python",
   "name": "conda-base-py"
  },
  "language_info": {
   "codemirror_mode": {
    "name": "ipython",
    "version": 3
   },
   "file_extension": ".py",
   "mimetype": "text/x-python",
   "name": "python",
   "nbconvert_exporter": "python",
   "pygments_lexer": "ipython3",
   "version": "3.12.3"
  }
 },
 "nbformat": 4,
 "nbformat_minor": 5
}
