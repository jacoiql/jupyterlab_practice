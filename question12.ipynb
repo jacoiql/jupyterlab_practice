{
 "cells": [
  {
   "cell_type": "markdown",
   "id": "72b358fd-7464-410b-aa36-881a3247b9d7",
   "metadata": {},
   "source": [
    "### We are currently working in the following directory:"
   ]
  },
  {
   "cell_type": "code",
   "execution_count": 1,
   "id": "b061602e-5778-406d-8983-9b8bcb72f5fa",
   "metadata": {},
   "outputs": [
    {
     "name": "stdout",
     "output_type": "stream",
     "text": [
      "/c/Users/jaco_/Documents/assignment_7/jupyterlab_practice\n"
     ]
    }
   ],
   "source": [
    "!pwd"
   ]
  },
  {
   "cell_type": "markdown",
   "id": "740313f4-251e-43ad-8c36-6d2f913f49a5",
   "metadata": {},
   "source": [
    "To time how long it takes to run a Python cell, we could use the `timeit` command inside a cell as is shown below:  \n",
    "```\n",
    "%%timeit\n",
    "```\n",
    "\n",
    "Followed by the proper use of the `timeit` command to time the following loop:\n",
    "```\n",
    "%%timeit\n",
    "```\n",
    "```python\n",
    "for i in range(1_000_000):\n",
    "    i**2\n",
    "```"
   ]
  },
  {
   "cell_type": "code",
   "execution_count": 2,
   "id": "bcc9dd5a-52d7-4c59-a344-e187c82a8472",
   "metadata": {},
   "outputs": [
    {
     "name": "stderr",
     "output_type": "stream",
     "text": [
      "[NbConvertApp] Converting notebook question12.ipynb to html\n",
      "[NbConvertApp] Writing 271576 bytes to question12.html\n"
     ]
    }
   ],
   "source": [
    "!jupyter nbconvert question12.ipynb \\\n",
    "    --to html \\\n",
    "    --output=question12.html \\\n",
    "    --no-input"
   ]
  }
 ],
 "metadata": {
  "kernelspec": {
   "display_name": "Python [conda env:jupyterlab_practice]",
   "language": "python",
   "name": "conda-env-jupyterlab_practice-py"
  },
  "language_info": {
   "codemirror_mode": {
    "name": "ipython",
    "version": 3
   },
   "file_extension": ".py",
   "mimetype": "text/x-python",
   "name": "python",
   "nbconvert_exporter": "python",
   "pygments_lexer": "ipython3",
   "version": "3.12.4"
  }
 },
 "nbformat": 4,
 "nbformat_minor": 5
}
